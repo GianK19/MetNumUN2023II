{
  "nbformat": 4,
  "nbformat_minor": 0,
  "metadata": {
    "colab": {
      "provenance": [],
      "include_colab_link": true
    },
    "kernelspec": {
      "name": "python3",
      "display_name": "Python 3"
    },
    "language_info": {
      "name": "python"
    }
  },
  "cells": [
    {
      "cell_type": "markdown",
      "metadata": {
        "id": "view-in-github",
        "colab_type": "text"
      },
      "source": [
        "<a href=\"https://colab.research.google.com/github/GianK19/MetNumUN2023II/blob/main/glanziano_group19_CubicEquation.ipynb\" target=\"_parent\"><img src=\"https://colab.research.google.com/assets/colab-badge.svg\" alt=\"Open In Colab\"/></a>"
      ]
    },
    {
      "cell_type": "markdown",
      "source": [
        "LAB 5:\n",
        "\n",
        "*   Juan David Palacios Feo.  \n",
        "\n",
        "  * UN ID: jupalaciosf\n",
        "\n",
        "  * Last digit list number: 1\n",
        "\n",
        "  "
      ],
      "metadata": {
        "id": "kibDitO88RNa"
      }
    },
    {
      "cell_type": "markdown",
      "source": [
        "*   Gian Karlo Lanziano\n",
        "\n",
        "  * UN ID: glanziano\n",
        "\n",
        "  * Last digit list number: 9\n",
        "\n",
        "  "
      ],
      "metadata": {
        "id": "Qnj0hvPY-kwn"
      }
    },
    {
      "cell_type": "markdown",
      "source": [
        "*   Daniel Tobar\n",
        "\n",
        "  * UN ID: dtobarl\n",
        "\n",
        "  * Last digit list number: 3\n",
        "\n",
        "  "
      ],
      "metadata": {
        "id": "PEYaQbBPHrZ9"
      }
    },
    {
      "cell_type": "markdown",
      "source": [
        "Modify [week_1_quadratic_Po_Shen_Loh.ipyn](https://colab.research.google.com/drive/15vXGB18_np6o0Rw8ZV4o08RTdCdDIdT0?usp=sharing) for\n",
        "\n",
        "$$ ax^3+bx^+cx +d = 0$$\n",
        "\n",
        "using Cubic equation – General cubic formula- [wikipedia](https://en.wikipedia.org/wiki/Cubic_equation)\n",
        "\n",
        "Asuume $a=1$ then work wequations are of the form\n",
        "\n",
        "$$ x^3+bx^+cx +d = 0$$\n",
        "\n",
        "Including plots, expalnations, solution code and test cases\n",
        "\n"
      ],
      "metadata": {
        "id": "l5urCPgRFp4u"
      }
    },
    {
      "cell_type": "markdown",
      "source": [
        "Modify [week_1_quadratic_Po_Shen_Loh.ipyn](https://colab.research.google.com/drive/15vXGB18_np6o0Rw8ZV4o08RTdCdDIdT0?usp=sharing) for\n",
        "\n",
        "$$ ax^3+bx^+cx +d = 0$$\n",
        "\n",
        "using Cubic equation – General cubic formula- [wikipedia](https://en.wikipedia.org/wiki/Cubic_equation)\n",
        "\n",
        "Asuume $a=1$ then work wequations are of the form\n",
        "\n",
        "$$ x^3+bx^+cx +d = 0$$\n",
        "\n",
        "Including plots, expalnations, solution code and test cases\n",
        "\n"
      ],
      "metadata": {
        "id": "q5PfhUy3iXZi"
      }
    },
    {
      "cell_type": "code",
      "source": [
        "def cubic(b,c,d,x):\n",
        "    \"\"\"Calulate the value of the  qubic equation, v = x**3 + bx**2 + c*x +d\n",
        "\n",
        "    Parameters\n",
        "    ----------\n",
        "    b, c, d  : float\n",
        "       Coefficients\n",
        "\n",
        "    Returns\n",
        "    -------\n",
        "    v : float \"\"\"\n",
        "\n",
        "    # ... enter your code here ...\n",
        "\n",
        "    v = x**3 + b*(x**2) + c*(x) + d\n",
        "    print(v)\n",
        "    return v"
      ],
      "metadata": {
        "id": "2etHLiNplRC_"
      },
      "execution_count": null,
      "outputs": []
    },
    {
      "cell_type": "code",
      "execution_count": null,
      "metadata": {
        "id": "o99NfjpaiThf"
      },
      "outputs": [],
      "source": []
    },
    {
      "cell_type": "code",
      "source": [
        "import math\n",
        "import numpy as np\n",
        "\n",
        "\n",
        "def findC(d_0, d_1, discriminant):\n",
        "    if discriminant >= 0:\n",
        "        y = d_1 + math.sqrt(discriminant)\n",
        "        if y == 0:\n",
        "            y = d_1 - math.sqrt(discriminant)\n",
        "    else:\n",
        "        y = complex(d_1 + math.sqrt(abs(discriminant)))\n",
        "        if y == 0:\n",
        "            y = d_1 - math.sqrt(abs(discriminant))\n",
        "    return (y/2)**(1/3)\n",
        "\n",
        "def solve_cubic(b, c,d):\n",
        "    \"\"\"Solve a cubic equation, x**3 + bx**2 + c*x +d = 0.\n",
        "\n",
        "    Parameters\n",
        "    ----------\n",
        "    b, c,d : float\n",
        "       Coefficients\n",
        "\n",
        "    Returns\n",
        "    -------\n",
        "    x1, x2,x3 : float or complex\n",
        "       Roots.  \"\"\"\n",
        "\n",
        "    # ... enter your code here ...\n",
        "\n",
        "    d_0 = (b**2) - (3*c)\n",
        "    d_1 = 2*(b**3) - (9*b*c) + (27*d)\n",
        "    discriminant = (d_1**2 - 4*d_0**3)\n",
        "    var_C = findC(d_0, d_1, discriminant)\n",
        "\n",
        "    if d_0 == d_1 == 0:\n",
        "        x_1 = -b/3\n",
        "\n",
        "        return x_1, x_1, x_1\n",
        "\n",
        "    elif b>1000 or b<-1000:\n",
        "      import sympy as sp\n",
        "\n",
        "      # Define the variables\n",
        "      x = sp.symbols('x')\n",
        "\n",
        "      # Define the cubic equation with a large 'b' coefficient\n",
        "      equation = x**3 +b*x**2 +c*x +d\n",
        "\n",
        "      # Solve the cubic equation\n",
        "      solutions = sp.solve(equation, x)\n",
        "      # Print the solutions\n",
        "      count= len(solutions)\n",
        "      for solution in solutions:\n",
        "          print(solution.evalf())\n",
        "      if(count == 2):\n",
        "        roots = np.array((solutions[0].evalf(), solutions[1].evalf(),0),dtype=float)\n",
        "        return roots\n",
        "\n",
        "      else:\n",
        "        roots = np.array((solutions[0].evalf(), solutions[1].evalf(),solutions[2].evalf()),dtype=float)\n",
        "        return roots\n",
        "\n",
        "    elif discriminant < 0:\n",
        "\n",
        "        if d_0 >= 0:\n",
        "            theta = np.arccos(d_1/(2*math.sqrt(d_0**3)))\n",
        "\n",
        "            x_1 = (-b/3) + (2/3 * math.sqrt(d_0) * math.cos((theta)/3))\n",
        "            x_2 = (-b/3) + (2/3 * math.sqrt(d_0) * math.cos((theta + 2*1*math.pi)/3))\n",
        "            x_3 = (-b/3) + (2/3 * math.sqrt(d_0) * math.cos((theta + 2*2*math.pi)/3))\n",
        "        else:\n",
        "\n",
        "            theta = complex(np.arccos(d_1/(2*math.sqrt(abs(d_0**3)))))\n",
        "\n",
        "            x_1 = complex(-(b/3) + 2/3 * math.sqrt(d_0) * math.cos((theta)/3))\n",
        "            x_2 = complex(-(b/3) + 2/3 * math.sqrt(d_0) * math.cos((theta + 2*1*math.pi)/3))\n",
        "            x_3 = complex(-(b/3) + 2/3 * math.sqrt(d_0) * math.cos((theta + 2*2*math.pi)/3))\n",
        "\n",
        "        return -x_1,-x_2,-x_3\n",
        "\n",
        "    else:\n",
        "        w = (-1 + 1j*math.sqrt(3)) / 2\n",
        "        x_1 = -(1/3) * (b + var_C + d_0/var_C)\n",
        "        x_2 = -(1/3) * (b + w*var_C + d_0/(w*var_C))\n",
        "        x_3 = -(1/3) * (b + w**2*var_C + d_0/(w**2*var_C))\n",
        "        return x_1,x_2,x_3"
      ],
      "metadata": {
        "id": "A6jqc1PtSnEX"
      },
      "execution_count": null,
      "outputs": []
    },
    {
      "cell_type": "markdown",
      "source": [
        "Bulit test cases that include\n",
        "\n",
        "$$(x-1) \\left( x + \\frac{1}{2} + i \\frac{\\sqrt{3}}{2}\\right) \\left( x + \\frac{1}{2} - i \\frac{\\sqrt{3}}{2}\\right) =   x^3 -1 =  0  $$\n",
        "\n",
        "$$(x-1)^3 = x^3 - 3 x^2 + 3 x - 1 = 0 $$\n",
        "\n",
        "$$(x-1)(x-i)(x+i) = x^3 - x^2 + x - 1 = 0 $$\n",
        "\n",
        "$$ (x+2)^2 (x-1) = x^3 + 3 x^2 - 4 = 0  $$\n",
        "\n",
        "\n",
        "three real diferent roots,  roots in the last digits of the group members, root of multiplicity two, and complex roots with small and large $b$.\n",
        "\n",
        "**Last digits:**"
      ],
      "metadata": {
        "id": "BpvJhj5Zl2lI"
      }
    },
    {
      "cell_type": "code",
      "source": [
        "from numpy import allclose\n",
        "import matplotlib.pyplot as plt\n",
        "variants = [{'b': 0.0, 'c': 0.0, 'd': -1.0},\n",
        "            {'b': -3.0, 'c': 3.0,  'd':-1.0},\n",
        "            {'b': -1.0, 'c': 1.0,  'd':-1.0},\n",
        "            {'b':  3.0, 'c': 0.0,  'd':-4.0},\n",
        "            {'b': 1.0, 'c': 3.0, 'd':-4.0},   #Test given by the group\n",
        "            {'b': -8.0, 'c': -5.0, 'd':-3.0}, #Test given by the group\n",
        "            {'b': 0.0, 'c': 0.0, 'd':-1.0},   #Test given by the group\n",
        "            {'b': 5.0, 'c': 3.0, 'd':8.0},    #Test using the last digit of the ID of each member of the group.\n",
        "            {'b':  1e6, 'c': 0.0,  'd':0.0},\n",
        "            {'b':  1e7, 'c': 0.0,  'd':0.0},\n",
        "            {'b':  1e6, 'c': 1.0,  'd':0.0},\n",
        "            {'b':  1e7, 'c': 1.0,  'd':0.0},\n",
        "            {'b':  1e6, 'c': -1.0,  'd':0.0},\n",
        "            {'b':  1e7, 'c': -1.0,  'd':0.0},\n",
        "            {'b':  -1e6, 'c': 1.0,  'd':0.0},\n",
        "            {'b':  -1e7, 'c': 1.0,  'd':0.0},\n",
        "            {'b':  -1e6, 'c': -1.0,  'd':0.0},\n",
        "            {'b':  -1e7, 'c': -1.0,  'd':0.0},\n",
        "            {'b':  1e6, 'c': 1.0,  'd':1.0},\n",
        "            {'b':  1e6, 'c': 1.0,  'd':-1.0},\n",
        "            {'b':  1e6, 'c': -1.0,  'd':1.0},\n",
        "            {'b':  1e6, 'c': -1.0,  'd':-1.0},\n",
        "            {'b':  1e7, 'c': 1.0,  'd':1.0},\n",
        "            {'b':  1e7, 'c': 1.0,  'd':-1.0},\n",
        "            {'b':  1e7, 'c': -1.0,  'd':1.0},\n",
        "            {'b':  1e7, 'c': -1.0,  'd':-1.0},\n",
        "            {'b':  1e8, 'c': 1.0,  'd':1.0},\n",
        "            {'b':  1e8, 'c': 1.0,  'd':-1.0},\n",
        "            {'b':  1e8, 'c': -1.0,  'd':1.0},\n",
        "            {'b':  1e8, 'c': -1.0,  'd':-1.0},]\n",
        "x = np.linspace(-10, 10, 10);\n",
        "for var in variants:\n",
        "    x1, x2, x3= solve_cubic(**var)\n",
        "    print(\"var:\",var)\n",
        "    print(\"roots:\",x1, x2, x3)\n",
        "    print(\"cubic in the roots:\",cubic(var['b'],var['c'],var['d'],x1), cubic(var['b'],var['c'],var['d'],x2), cubic(var['b'],var['c'],var['d'],x3))\n",
        "    print(\"allclose 1:\",allclose(cubic(var['b'],var['c'],var['d'],x1), 0.0))\n",
        "    print(\"allclose 2:\",allclose(cubic(var['b'],var['c'],var['d'],x2), 0.0))\n",
        "    print(\"allclose 3:\",allclose(cubic(var['b'],var['c'],var['d'],x3), 0.0))\n",
        "    print(\"allclose:\",allclose(cubic(var['b'],var['c'],var['d'],x1), 0.0) and allclose(cubic(var['b'],var['c'],var['d'],x2), 0.0) and  allclose(cubic(var['b'],var['c'],var['d'],x3), 0.0))\n",
        "    plt.figure(figsize=(12, 4))\n",
        "    plt.plot(x, x**3 + var['b'] * x**2 + var['c'] * x + var['d'] , 'b', label='Función')\n",
        "    plt.title('Función')\n",
        "    plt.xlabel('x')\n",
        "    plt.ylabel('f(x)')\n",
        "    plt.legend()\n",
        "    plt.margins(x=-0.01, y=-0.25)\n",
        "    plt.grid()\n",
        "    plt.show()\n"
      ],
      "metadata": {
        "id": "8fjriYmkmHOw"
      },
      "execution_count": null,
      "outputs": []
    },
    {
      "cell_type": "markdown",
      "source": [
        " Publish the notebook in as **pperezp_groupN_CubicEquation.ipynb** at **MetNumUN2023II/Lab5** and submit only the code of **solve_cubic(b, c,d)** in UNcode Quiz Cubic Equation."
      ],
      "metadata": {
        "id": "0s01RrfqmE_f"
      }
    },
    {
      "cell_type": "code",
      "source": [],
      "metadata": {
        "id": "dGp_2Wu8uBYF"
      },
      "execution_count": null,
      "outputs": []
    }
  ]
}